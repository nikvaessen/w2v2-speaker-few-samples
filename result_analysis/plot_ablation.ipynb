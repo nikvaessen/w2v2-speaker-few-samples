{
 "cells": [
  {
   "cell_type": "code",
   "execution_count": 1,
   "metadata": {
    "collapsed": true
   },
   "outputs": [
    {
     "data": {
      "text/plain": "True"
     },
     "execution_count": 1,
     "metadata": {},
     "output_type": "execute_result"
    }
   ],
   "source": [
    "import wandb\n",
    "import pandas as pd\n",
    "\n",
    "import seaborn as sns\n",
    "import matplotlib.pyplot as plt\n",
    "\n",
    "from dotenv import load_dotenv\n",
    "\n",
    "load_dotenv(\"../.env\")"
   ]
  },
  {
   "cell_type": "code",
   "execution_count": 2,
   "outputs": [],
   "source": [
    "########################################################################################\n",
    "# query data from wandb\n",
    "\n",
    "# add data to frames\n",
    "api = wandb.Api()\n",
    "\n",
    "data_description_map = {\n",
    "    \"tiny-few\": \"tiny-few (50k files shared between 100 speakers)\",\n",
    "    \"tiny-high\": \"tiny-high (8 files from 8 sessions for 5994 speakers)\",\n",
    "}\n",
    "\n",
    "\n",
    "def load_runs(name: str):\n",
    "    runs = api.runs(name)\n",
    "    df = pd.DataFrame(columns=[\"eer\", \"data\", \"ablation\"])\n",
    "\n",
    "    for r in runs:\n",
    "        tags = r.tags\n",
    "\n",
    "        if r.state != \"finished\":\n",
    "            continue\n",
    "\n",
    "        eer = r.summary[\"test_eer_hard\"]\n",
    "\n",
    "        if \"tiny_few\" in tags:\n",
    "            tags.remove(\"tiny_few\")\n",
    "            data = \"tiny_few\"\n",
    "        elif \"tiny_many_high\" in tags:\n",
    "            tags.remove(\"tiny_many_high\")\n",
    "            data = \"tiny_many_high\"\n",
    "        else:\n",
    "            raise ValueError(f\"undetermined dataset from {tags=}\")\n",
    "\n",
    "        ablation = tags[0]\n",
    "\n",
    "        df = pd.concat(\n",
    "            [\n",
    "                df,\n",
    "                pd.DataFrame(\n",
    "                    {\n",
    "                        \"ablation\": [ablation],\n",
    "                        \"eer\": [eer],\n",
    "                        \"data\": [data],\n",
    "                    }\n",
    "                ),\n",
    "            ],\n",
    "            ignore_index=True,\n",
    "        )\n",
    "\n",
    "    return df\n",
    "\n",
    "\n",
    "df = load_runs(\"wav2vec2-ablation\")"
   ],
   "metadata": {
    "collapsed": false,
    "pycharm": {
     "name": "#%%\n"
    }
   }
  },
  {
   "cell_type": "code",
   "execution_count": 3,
   "outputs": [
    {
     "data": {
      "text/plain": "         eer            data             ablation\n0   0.077306  tiny_many_high             reg_mask\n1    0.08045  tiny_many_high          reg_dropout\n2    0.06733  tiny_many_high        reg_layerdrop\n3   0.462065  tiny_many_high  weights_random_init\n4   0.077615  tiny_many_high             reg_none\n..       ...             ...                  ...\n68  0.067629  tiny_many_high             baseline\n69  0.168396        tiny_few         weights_xlsr\n70  0.066954  tiny_many_high         weights_xlsr\n71   0.14854        tiny_few             baseline\n72  0.066402  tiny_many_high             baseline\n\n[73 rows x 3 columns]",
      "text/html": "<div>\n<style scoped>\n    .dataframe tbody tr th:only-of-type {\n        vertical-align: middle;\n    }\n\n    .dataframe tbody tr th {\n        vertical-align: top;\n    }\n\n    .dataframe thead th {\n        text-align: right;\n    }\n</style>\n<table border=\"1\" class=\"dataframe\">\n  <thead>\n    <tr style=\"text-align: right;\">\n      <th></th>\n      <th>eer</th>\n      <th>data</th>\n      <th>ablation</th>\n    </tr>\n  </thead>\n  <tbody>\n    <tr>\n      <th>0</th>\n      <td>0.077306</td>\n      <td>tiny_many_high</td>\n      <td>reg_mask</td>\n    </tr>\n    <tr>\n      <th>1</th>\n      <td>0.08045</td>\n      <td>tiny_many_high</td>\n      <td>reg_dropout</td>\n    </tr>\n    <tr>\n      <th>2</th>\n      <td>0.06733</td>\n      <td>tiny_many_high</td>\n      <td>reg_layerdrop</td>\n    </tr>\n    <tr>\n      <th>3</th>\n      <td>0.462065</td>\n      <td>tiny_many_high</td>\n      <td>weights_random_init</td>\n    </tr>\n    <tr>\n      <th>4</th>\n      <td>0.077615</td>\n      <td>tiny_many_high</td>\n      <td>reg_none</td>\n    </tr>\n    <tr>\n      <th>...</th>\n      <td>...</td>\n      <td>...</td>\n      <td>...</td>\n    </tr>\n    <tr>\n      <th>68</th>\n      <td>0.067629</td>\n      <td>tiny_many_high</td>\n      <td>baseline</td>\n    </tr>\n    <tr>\n      <th>69</th>\n      <td>0.168396</td>\n      <td>tiny_few</td>\n      <td>weights_xlsr</td>\n    </tr>\n    <tr>\n      <th>70</th>\n      <td>0.066954</td>\n      <td>tiny_many_high</td>\n      <td>weights_xlsr</td>\n    </tr>\n    <tr>\n      <th>71</th>\n      <td>0.14854</td>\n      <td>tiny_few</td>\n      <td>baseline</td>\n    </tr>\n    <tr>\n      <th>72</th>\n      <td>0.066402</td>\n      <td>tiny_many_high</td>\n      <td>baseline</td>\n    </tr>\n  </tbody>\n</table>\n<p>73 rows × 3 columns</p>\n</div>"
     },
     "execution_count": 3,
     "metadata": {},
     "output_type": "execute_result"
    }
   ],
   "source": [
    "df"
   ],
   "metadata": {
    "collapsed": false,
    "pycharm": {
     "name": "#%%\n"
    }
   }
  },
  {
   "cell_type": "code",
   "execution_count": 4,
   "outputs": [],
   "source": [
    "df_grouped = df.groupby(by=[\"data\", \"ablation\",])"
   ],
   "metadata": {
    "collapsed": false,
    "pycharm": {
     "name": "#%%\n"
    }
   }
  },
  {
   "cell_type": "code",
   "execution_count": 5,
   "outputs": [],
   "source": [
    "df_agg = df_grouped.agg(\n",
    "    eer_min=(\"eer\", \"min\"),\n",
    "    eer_max=(\"eer\", \"max\"),\n",
    "    eer_mean=(\"eer\", \"mean\"),\n",
    "    eer_std=(\"eer\", \"std\"),\n",
    "    count=(\"eer\", \"count\")\n",
    ")"
   ],
   "metadata": {
    "collapsed": false,
    "pycharm": {
     "name": "#%%\n"
    }
   }
  },
  {
   "cell_type": "code",
   "execution_count": 6,
   "outputs": [
    {
     "data": {
      "text/plain": "                                          eer_min   eer_max  eer_mean  \\\ndata           ablation                                                 \ntiny_few       baseline                  0.148540  0.151224  0.150236   \n               lr_1_cycle                0.155269  0.159669  0.157871   \n               lr_constant               0.165800  0.170624  0.167673   \n               lr_exp_decay              0.165158  0.169016  0.166832   \n               reg_dropout               0.165495  0.167647  0.166676   \n               reg_layerdrop             0.148761  0.151634  0.150259   \n               reg_mask                  0.160021  0.163214  0.162132   \n               reg_none                  0.163649  0.168333  0.166722   \n               weights_freeze_cycle      0.143980  0.145876  0.145224   \n               weights_freeze_cycle_cnn  0.152798  0.157593  0.154793   \n               weights_no_freeze         0.149604  0.152833  0.151554   \n               weights_random_init       0.332113  0.335212  0.333499   \n               weights_xlsr              0.168396  0.168396  0.168396   \ntiny_many_high baseline                  0.066402  0.069767  0.067933   \n               lr_1_cycle                0.083266  0.087474  0.085880   \n               lr_constant               0.085005  0.093064  0.087955   \n               lr_exp_decay              0.066222  0.066994  0.066665   \n               reg_dropout               0.078807  0.081169  0.080142   \n               reg_layerdrop             0.065081  0.069292  0.067234   \n               reg_mask                  0.077306  0.081509  0.078728   \n               reg_none                  0.076413  0.077765  0.077265   \n               weights_freeze_cycle      0.061858  0.065135  0.063829   \n               weights_freeze_cycle_cnn  0.074269  0.083212  0.078287   \n               weights_no_freeze         0.070450  0.073201  0.071825   \n               weights_random_init       0.462009  0.463056  0.462376   \n               weights_xlsr              0.066954  0.066954  0.066954   \n\n                                          eer_std  count  \ndata           ablation                                   \ntiny_few       baseline                  0.001475      3  \n               lr_1_cycle                0.002308      3  \n               lr_constant               0.002586      3  \n               lr_exp_decay              0.001979      3  \n               reg_dropout               0.001091      3  \n               reg_layerdrop             0.001440      3  \n               reg_mask                  0.001828      3  \n               reg_none                  0.002662      3  \n               weights_freeze_cycle      0.001078      3  \n               weights_freeze_cycle_cnn  0.002497      3  \n               weights_no_freeze         0.001716      3  \n               weights_random_init       0.001575      3  \n               weights_xlsr                   NaN      1  \ntiny_many_high baseline                  0.001703      3  \n               lr_1_cycle                0.002282      3  \n               lr_constant               0.004442      3  \n               lr_exp_decay              0.000398      3  \n               reg_dropout               0.001210      3  \n               reg_layerdrop             0.002107      3  \n               reg_mask                  0.002408      3  \n               reg_none                  0.000741      3  \n               weights_freeze_cycle      0.001737      3  \n               weights_freeze_cycle_cnn  0.004540      3  \n               weights_no_freeze         0.001946      2  \n               weights_random_init       0.000589      3  \n               weights_xlsr                   NaN      1  ",
      "text/html": "<div>\n<style scoped>\n    .dataframe tbody tr th:only-of-type {\n        vertical-align: middle;\n    }\n\n    .dataframe tbody tr th {\n        vertical-align: top;\n    }\n\n    .dataframe thead th {\n        text-align: right;\n    }\n</style>\n<table border=\"1\" class=\"dataframe\">\n  <thead>\n    <tr style=\"text-align: right;\">\n      <th></th>\n      <th></th>\n      <th>eer_min</th>\n      <th>eer_max</th>\n      <th>eer_mean</th>\n      <th>eer_std</th>\n      <th>count</th>\n    </tr>\n    <tr>\n      <th>data</th>\n      <th>ablation</th>\n      <th></th>\n      <th></th>\n      <th></th>\n      <th></th>\n      <th></th>\n    </tr>\n  </thead>\n  <tbody>\n    <tr>\n      <th rowspan=\"13\" valign=\"top\">tiny_few</th>\n      <th>baseline</th>\n      <td>0.148540</td>\n      <td>0.151224</td>\n      <td>0.150236</td>\n      <td>0.001475</td>\n      <td>3</td>\n    </tr>\n    <tr>\n      <th>lr_1_cycle</th>\n      <td>0.155269</td>\n      <td>0.159669</td>\n      <td>0.157871</td>\n      <td>0.002308</td>\n      <td>3</td>\n    </tr>\n    <tr>\n      <th>lr_constant</th>\n      <td>0.165800</td>\n      <td>0.170624</td>\n      <td>0.167673</td>\n      <td>0.002586</td>\n      <td>3</td>\n    </tr>\n    <tr>\n      <th>lr_exp_decay</th>\n      <td>0.165158</td>\n      <td>0.169016</td>\n      <td>0.166832</td>\n      <td>0.001979</td>\n      <td>3</td>\n    </tr>\n    <tr>\n      <th>reg_dropout</th>\n      <td>0.165495</td>\n      <td>0.167647</td>\n      <td>0.166676</td>\n      <td>0.001091</td>\n      <td>3</td>\n    </tr>\n    <tr>\n      <th>reg_layerdrop</th>\n      <td>0.148761</td>\n      <td>0.151634</td>\n      <td>0.150259</td>\n      <td>0.001440</td>\n      <td>3</td>\n    </tr>\n    <tr>\n      <th>reg_mask</th>\n      <td>0.160021</td>\n      <td>0.163214</td>\n      <td>0.162132</td>\n      <td>0.001828</td>\n      <td>3</td>\n    </tr>\n    <tr>\n      <th>reg_none</th>\n      <td>0.163649</td>\n      <td>0.168333</td>\n      <td>0.166722</td>\n      <td>0.002662</td>\n      <td>3</td>\n    </tr>\n    <tr>\n      <th>weights_freeze_cycle</th>\n      <td>0.143980</td>\n      <td>0.145876</td>\n      <td>0.145224</td>\n      <td>0.001078</td>\n      <td>3</td>\n    </tr>\n    <tr>\n      <th>weights_freeze_cycle_cnn</th>\n      <td>0.152798</td>\n      <td>0.157593</td>\n      <td>0.154793</td>\n      <td>0.002497</td>\n      <td>3</td>\n    </tr>\n    <tr>\n      <th>weights_no_freeze</th>\n      <td>0.149604</td>\n      <td>0.152833</td>\n      <td>0.151554</td>\n      <td>0.001716</td>\n      <td>3</td>\n    </tr>\n    <tr>\n      <th>weights_random_init</th>\n      <td>0.332113</td>\n      <td>0.335212</td>\n      <td>0.333499</td>\n      <td>0.001575</td>\n      <td>3</td>\n    </tr>\n    <tr>\n      <th>weights_xlsr</th>\n      <td>0.168396</td>\n      <td>0.168396</td>\n      <td>0.168396</td>\n      <td>NaN</td>\n      <td>1</td>\n    </tr>\n    <tr>\n      <th rowspan=\"13\" valign=\"top\">tiny_many_high</th>\n      <th>baseline</th>\n      <td>0.066402</td>\n      <td>0.069767</td>\n      <td>0.067933</td>\n      <td>0.001703</td>\n      <td>3</td>\n    </tr>\n    <tr>\n      <th>lr_1_cycle</th>\n      <td>0.083266</td>\n      <td>0.087474</td>\n      <td>0.085880</td>\n      <td>0.002282</td>\n      <td>3</td>\n    </tr>\n    <tr>\n      <th>lr_constant</th>\n      <td>0.085005</td>\n      <td>0.093064</td>\n      <td>0.087955</td>\n      <td>0.004442</td>\n      <td>3</td>\n    </tr>\n    <tr>\n      <th>lr_exp_decay</th>\n      <td>0.066222</td>\n      <td>0.066994</td>\n      <td>0.066665</td>\n      <td>0.000398</td>\n      <td>3</td>\n    </tr>\n    <tr>\n      <th>reg_dropout</th>\n      <td>0.078807</td>\n      <td>0.081169</td>\n      <td>0.080142</td>\n      <td>0.001210</td>\n      <td>3</td>\n    </tr>\n    <tr>\n      <th>reg_layerdrop</th>\n      <td>0.065081</td>\n      <td>0.069292</td>\n      <td>0.067234</td>\n      <td>0.002107</td>\n      <td>3</td>\n    </tr>\n    <tr>\n      <th>reg_mask</th>\n      <td>0.077306</td>\n      <td>0.081509</td>\n      <td>0.078728</td>\n      <td>0.002408</td>\n      <td>3</td>\n    </tr>\n    <tr>\n      <th>reg_none</th>\n      <td>0.076413</td>\n      <td>0.077765</td>\n      <td>0.077265</td>\n      <td>0.000741</td>\n      <td>3</td>\n    </tr>\n    <tr>\n      <th>weights_freeze_cycle</th>\n      <td>0.061858</td>\n      <td>0.065135</td>\n      <td>0.063829</td>\n      <td>0.001737</td>\n      <td>3</td>\n    </tr>\n    <tr>\n      <th>weights_freeze_cycle_cnn</th>\n      <td>0.074269</td>\n      <td>0.083212</td>\n      <td>0.078287</td>\n      <td>0.004540</td>\n      <td>3</td>\n    </tr>\n    <tr>\n      <th>weights_no_freeze</th>\n      <td>0.070450</td>\n      <td>0.073201</td>\n      <td>0.071825</td>\n      <td>0.001946</td>\n      <td>2</td>\n    </tr>\n    <tr>\n      <th>weights_random_init</th>\n      <td>0.462009</td>\n      <td>0.463056</td>\n      <td>0.462376</td>\n      <td>0.000589</td>\n      <td>3</td>\n    </tr>\n    <tr>\n      <th>weights_xlsr</th>\n      <td>0.066954</td>\n      <td>0.066954</td>\n      <td>0.066954</td>\n      <td>NaN</td>\n      <td>1</td>\n    </tr>\n  </tbody>\n</table>\n</div>"
     },
     "execution_count": 6,
     "metadata": {},
     "output_type": "execute_result"
    }
   ],
   "source": [
    "df_agg"
   ],
   "metadata": {
    "collapsed": false,
    "pycharm": {
     "name": "#%%\n"
    }
   }
  },
  {
   "cell_type": "code",
   "execution_count": 7,
   "outputs": [
    {
     "data": {
      "text/plain": "73"
     },
     "execution_count": 7,
     "metadata": {},
     "output_type": "execute_result"
    }
   ],
   "source": [
    "df_agg['count'].sum()"
   ],
   "metadata": {
    "collapsed": false,
    "pycharm": {
     "name": "#%%\n"
    }
   }
  },
  {
   "cell_type": "code",
   "execution_count": 22,
   "outputs": [],
   "source": [],
   "metadata": {
    "collapsed": false,
    "pycharm": {
     "name": "#%%\n"
    }
   }
  },
  {
   "cell_type": "code",
   "execution_count": 22,
   "outputs": [],
   "source": [],
   "metadata": {
    "collapsed": false,
    "pycharm": {
     "name": "#%%\n"
    }
   }
  },
  {
   "cell_type": "code",
   "execution_count": 7,
   "outputs": [],
   "source": [],
   "metadata": {
    "collapsed": false,
    "pycharm": {
     "name": "#%%\n"
    }
   }
  },
  {
   "cell_type": "code",
   "execution_count": null,
   "outputs": [],
   "source": [],
   "metadata": {
    "collapsed": false,
    "pycharm": {
     "name": "#%%\n"
    }
   }
  }
 ],
 "metadata": {
  "kernelspec": {
   "display_name": "Python 3",
   "language": "python",
   "name": "python3"
  },
  "language_info": {
   "codemirror_mode": {
    "name": "ipython",
    "version": 2
   },
   "file_extension": ".py",
   "mimetype": "text/x-python",
   "name": "python",
   "nbconvert_exporter": "python",
   "pygments_lexer": "ipython2",
   "version": "2.7.6"
  }
 },
 "nbformat": 4,
 "nbformat_minor": 0
}