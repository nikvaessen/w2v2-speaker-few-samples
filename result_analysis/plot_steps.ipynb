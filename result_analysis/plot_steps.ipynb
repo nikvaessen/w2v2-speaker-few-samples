{
 "cells": [
  {
   "cell_type": "code",
   "execution_count": 2,
   "metadata": {
    "collapsed": true
   },
   "outputs": [
    {
     "data": {
      "text/plain": "True"
     },
     "execution_count": 2,
     "metadata": {},
     "output_type": "execute_result"
    }
   ],
   "source": [
    "import wandb\n",
    "import pandas as pd\n",
    "\n",
    "import seaborn as sns\n",
    "import matplotlib.pyplot as plt\n",
    "\n",
    "from dotenv import load_dotenv\n",
    "\n",
    "load_dotenv(\"../.env\")"
   ]
  },
  {
   "cell_type": "code",
   "execution_count": 3,
   "outputs": [],
   "source": [
    "########################################################################################\n",
    "# query data from wandb\n",
    "\n",
    "# add data to frames\n",
    "api = wandb.Api()\n",
    "\n",
    "data_description_map = {\n",
    "    \"vox2\": \"voxceleb2 (1M files shared between 5994 speakers)\",\n",
    "    \"tiny-few\": \"tiny-few (50k files shared between 100 speakers)\",\n",
    "    \"tiny-low\": \"tiny-low (8 files from 1 session for 5994 speakers)\",\n",
    "    \"tiny-high\": \"tiny-high (8 files from 8 sessions for 5994 speakers)\",\n",
    "}\n",
    "\n",
    "\n",
    "def load_runs(name: str):\n",
    "    runs = api.runs(name)\n",
    "    df = pd.DataFrame(columns=[\"num_steps\", \"eer\", \"data\", \"network\"])\n",
    "\n",
    "    for r in runs:\n",
    "        tags = r.tags\n",
    "\n",
    "        if r.state != \"finished\":\n",
    "            continue\n",
    "\n",
    "        if (\n",
    "            \"step_exp\" in tags\n",
    "        ):\n",
    "            num_steps = r.config[\"trainer\"][\"max_steps\"]\n",
    "            eer = r.summary[\"test_eer_hard\"]\n",
    "\n",
    "            if eer >= 1:\n",
    "                continue\n",
    "\n",
    "            if \"vox2_full\" in tags:\n",
    "                data = data_description_map[\"vox2\"]\n",
    "            elif \"tiny_few\" in tags:\n",
    "                data = data_description_map[\"tiny-few\"]\n",
    "            elif \"tiny_many_high\" in tags:\n",
    "                data = data_description_map[\"tiny-high\"]\n",
    "            elif \"tiny_many_low\" in tags:\n",
    "                data = data_description_map[\"tiny-low\"]\n",
    "            elif \"tiny_many\" in tags:\n",
    "                continue\n",
    "            else:\n",
    "                raise ValueError(f\"undetermined dataset from {tags=}\")\n",
    "\n",
    "            df = pd.concat(\n",
    "                [\n",
    "                    df,\n",
    "                    pd.DataFrame(\n",
    "                        {\n",
    "                            \"num_steps\": [num_steps],\n",
    "                            \"eer\": [eer],\n",
    "                            \"data\": [data],\n",
    "                            \"network\": [name],\n",
    "                        }\n",
    "                    ),\n",
    "                ],\n",
    "                ignore_index=True,\n",
    "            )\n",
    "\n",
    "    return df\n",
    "\n",
    "\n",
    "df_xvector = load_runs(\"xvector\")\n",
    "df_ecapa = load_runs(\"ecapa\")\n",
    "df_w2v2 = load_runs(\"wav2vec2\")\n",
    "\n",
    "df = pd.concat([df_xvector, df_ecapa, df_w2v2], ignore_index=True)"
   ],
   "metadata": {
    "collapsed": false,
    "pycharm": {
     "name": "#%%\n"
    }
   }
  },
  {
   "cell_type": "code",
   "execution_count": 4,
   "outputs": [
    {
     "data": {
      "text/plain": "    num_steps       eer                                               data  \\\n0       25000  0.284384  tiny-low (8 files from 1 session for 5994 spea...   \n1      400000  0.241335  tiny-low (8 files from 1 session for 5994 spea...   \n2      400000  0.240692  tiny-low (8 files from 1 session for 5994 spea...   \n3      400000  0.237838  tiny-low (8 files from 1 session for 5994 spea...   \n4      100000  0.266305  tiny-low (8 files from 1 session for 5994 spea...   \n..        ...       ...                                                ...   \n136     25000  0.224425   tiny-few (50k files shared between 100 speakers)   \n137     25000  0.077285  voxceleb2 (1M files shared between 5994 speakers)   \n138     25000  0.238626  tiny-low (8 files from 1 session for 5994 spea...   \n139     25000  0.109838  tiny-high (8 files from 8 sessions for 5994 sp...   \n140     25000  0.226609   tiny-few (50k files shared between 100 speakers)   \n\n      network  \n0     xvector  \n1     xvector  \n2     xvector  \n3     xvector  \n4     xvector  \n..        ...  \n136  wav2vec2  \n137  wav2vec2  \n138  wav2vec2  \n139  wav2vec2  \n140  wav2vec2  \n\n[141 rows x 4 columns]",
      "text/html": "<div>\n<style scoped>\n    .dataframe tbody tr th:only-of-type {\n        vertical-align: middle;\n    }\n\n    .dataframe tbody tr th {\n        vertical-align: top;\n    }\n\n    .dataframe thead th {\n        text-align: right;\n    }\n</style>\n<table border=\"1\" class=\"dataframe\">\n  <thead>\n    <tr style=\"text-align: right;\">\n      <th></th>\n      <th>num_steps</th>\n      <th>eer</th>\n      <th>data</th>\n      <th>network</th>\n    </tr>\n  </thead>\n  <tbody>\n    <tr>\n      <th>0</th>\n      <td>25000</td>\n      <td>0.284384</td>\n      <td>tiny-low (8 files from 1 session for 5994 spea...</td>\n      <td>xvector</td>\n    </tr>\n    <tr>\n      <th>1</th>\n      <td>400000</td>\n      <td>0.241335</td>\n      <td>tiny-low (8 files from 1 session for 5994 spea...</td>\n      <td>xvector</td>\n    </tr>\n    <tr>\n      <th>2</th>\n      <td>400000</td>\n      <td>0.240692</td>\n      <td>tiny-low (8 files from 1 session for 5994 spea...</td>\n      <td>xvector</td>\n    </tr>\n    <tr>\n      <th>3</th>\n      <td>400000</td>\n      <td>0.237838</td>\n      <td>tiny-low (8 files from 1 session for 5994 spea...</td>\n      <td>xvector</td>\n    </tr>\n    <tr>\n      <th>4</th>\n      <td>100000</td>\n      <td>0.266305</td>\n      <td>tiny-low (8 files from 1 session for 5994 spea...</td>\n      <td>xvector</td>\n    </tr>\n    <tr>\n      <th>...</th>\n      <td>...</td>\n      <td>...</td>\n      <td>...</td>\n      <td>...</td>\n    </tr>\n    <tr>\n      <th>136</th>\n      <td>25000</td>\n      <td>0.224425</td>\n      <td>tiny-few (50k files shared between 100 speakers)</td>\n      <td>wav2vec2</td>\n    </tr>\n    <tr>\n      <th>137</th>\n      <td>25000</td>\n      <td>0.077285</td>\n      <td>voxceleb2 (1M files shared between 5994 speakers)</td>\n      <td>wav2vec2</td>\n    </tr>\n    <tr>\n      <th>138</th>\n      <td>25000</td>\n      <td>0.238626</td>\n      <td>tiny-low (8 files from 1 session for 5994 spea...</td>\n      <td>wav2vec2</td>\n    </tr>\n    <tr>\n      <th>139</th>\n      <td>25000</td>\n      <td>0.109838</td>\n      <td>tiny-high (8 files from 8 sessions for 5994 sp...</td>\n      <td>wav2vec2</td>\n    </tr>\n    <tr>\n      <th>140</th>\n      <td>25000</td>\n      <td>0.226609</td>\n      <td>tiny-few (50k files shared between 100 speakers)</td>\n      <td>wav2vec2</td>\n    </tr>\n  </tbody>\n</table>\n<p>141 rows × 4 columns</p>\n</div>"
     },
     "execution_count": 4,
     "metadata": {},
     "output_type": "execute_result"
    }
   ],
   "source": [
    "df"
   ],
   "metadata": {
    "collapsed": false,
    "pycharm": {
     "name": "#%%\n"
    }
   }
  },
  {
   "cell_type": "code",
   "execution_count": 5,
   "outputs": [
    {
     "data": {
      "text/plain": "array(['xvector', 'ecapa', 'wav2vec2'], dtype=object)"
     },
     "execution_count": 5,
     "metadata": {},
     "output_type": "execute_result"
    }
   ],
   "source": [
    "df['network'].unique()\n"
   ],
   "metadata": {
    "collapsed": false,
    "pycharm": {
     "name": "#%%\n"
    }
   }
  },
  {
   "cell_type": "code",
   "execution_count": 5,
   "outputs": [],
   "source": [],
   "metadata": {
    "collapsed": false,
    "pycharm": {
     "name": "#%%\n"
    }
   }
  },
  {
   "cell_type": "code",
   "execution_count": 6,
   "outputs": [],
   "source": [
    "df_grouped = df.groupby(by=[\"network\", \"data\", \"num_steps\"])"
   ],
   "metadata": {
    "collapsed": false,
    "pycharm": {
     "name": "#%%\n"
    }
   }
  },
  {
   "cell_type": "code",
   "execution_count": 7,
   "outputs": [],
   "source": [
    "df_agg = df_grouped.agg(\n",
    "    num_steps=(\"num_steps\", \"first\"),\n",
    "    eer_min=(\"eer\", \"min\"),\n",
    "    eer_max=(\"eer\", \"max\"),\n",
    "    eer_mean=(\"eer\", \"mean\"),\n",
    "    eer_std=(\"eer\", \"std\"),\n",
    "    count=(\"eer\", \"count\")\n",
    ")"
   ],
   "metadata": {
    "collapsed": false,
    "pycharm": {
     "name": "#%%\n"
    }
   }
  },
  {
   "cell_type": "code",
   "execution_count": 8,
   "outputs": [
    {
     "data": {
      "text/plain": "                                                                      num_steps  \\\nnetwork  data                                               num_steps             \necapa    tiny-few (50k files shared between 100 speakers)   25000         25000   \n                                                            50000         50000   \n                                                            100000       100000   \n                                                            400000       400000   \n         tiny-high (8 files from 8 sessions for 5994 spe... 25000         25000   \n                                                            50000         50000   \n                                                            100000       100000   \n                                                            400000       400000   \n         tiny-low (8 files from 1 session for 5994 speak... 25000         25000   \n                                                            50000         50000   \n                                                            100000       100000   \n                                                            400000       400000   \n         voxceleb2 (1M files shared between 5994 speakers)  25000         25000   \n                                                            50000         50000   \n                                                            100000       100000   \n                                                            400000       400000   \nwav2vec2 tiny-few (50k files shared between 100 speakers)   25000         25000   \n                                                            50000         50000   \n                                                            100000       100000   \n                                                            400000       400000   \n         tiny-high (8 files from 8 sessions for 5994 spe... 25000         25000   \n                                                            50000         50000   \n                                                            100000       100000   \n                                                            400000       400000   \n         tiny-low (8 files from 1 session for 5994 speak... 25000         25000   \n                                                            50000         50000   \n                                                            100000       100000   \n                                                            400000       400000   \n         voxceleb2 (1M files shared between 5994 speakers)  25000         25000   \n                                                            50000         50000   \n                                                            100000       100000   \n                                                            400000       400000   \nxvector  tiny-few (50k files shared between 100 speakers)   25000         25000   \n                                                            50000         50000   \n                                                            100000       100000   \n                                                            400000       400000   \n         tiny-high (8 files from 8 sessions for 5994 spe... 25000         25000   \n                                                            50000         50000   \n                                                            100000       100000   \n                                                            400000       400000   \n         tiny-low (8 files from 1 session for 5994 speak... 25000         25000   \n                                                            50000         50000   \n                                                            100000       100000   \n                                                            400000       400000   \n         voxceleb2 (1M files shared between 5994 speakers)  25000         25000   \n                                                            50000         50000   \n                                                            100000       100000   \n                                                            400000       400000   \n\n                                                                        eer_min  \\\nnetwork  data                                               num_steps             \necapa    tiny-few (50k files shared between 100 speakers)   25000      0.182483   \n                                                            50000      0.172436   \n                                                            100000     0.174317   \n                                                            400000     0.168415   \n         tiny-high (8 files from 8 sessions for 5994 spe... 25000      0.112034   \n                                                            50000      0.097068   \n                                                            100000     0.090172   \n                                                            400000     0.093005   \n         tiny-low (8 files from 1 session for 5994 speak... 25000      0.224367   \n                                                            50000      0.207617   \n                                                            100000     0.203245   \n                                                            400000     0.194139   \n         voxceleb2 (1M files shared between 5994 speakers)  25000      0.067600   \n                                                            50000      0.053848   \n                                                            100000     0.044621   \n                                                            400000     0.038481   \nwav2vec2 tiny-few (50k files shared between 100 speakers)   25000      0.223514   \n                                                            50000      0.150083   \n                                                            100000     0.153702   \n                                                            400000     0.180000   \n         tiny-high (8 files from 8 sessions for 5994 spe... 25000      0.099816   \n                                                            50000      0.066774   \n                                                            100000     0.070703   \n                                                            400000     0.075170   \n         tiny-low (8 files from 1 session for 5994 speak... 25000      0.236616   \n                                                            50000      0.217120   \n                                                            100000     0.217900   \n                                                            400000     0.232400   \n         voxceleb2 (1M files shared between 5994 speakers)  25000      0.077125   \n                                                            50000      0.045080   \n                                                            100000     0.040200   \n                                                            400000     0.053730   \nxvector  tiny-few (50k files shared between 100 speakers)   25000      0.188074   \n                                                            50000      0.179514   \n                                                            100000     0.177565   \n                                                            400000     0.176884   \n         tiny-high (8 files from 8 sessions for 5994 spe... 25000      0.179085   \n                                                            50000      0.158631   \n                                                            100000     0.127624   \n                                                            400000     0.104186   \n         tiny-low (8 files from 1 session for 5994 speak... 25000      0.283479   \n                                                            50000      0.270971   \n                                                            100000     0.260857   \n                                                            400000     0.237838   \n         voxceleb2 (1M files shared between 5994 speakers)  25000      0.155600   \n                                                            50000      0.108487   \n                                                            100000     0.071110   \n                                                            400000     0.049621   \n\n                                                                        eer_max  \\\nnetwork  data                                               num_steps             \necapa    tiny-few (50k files shared between 100 speakers)   25000      0.182970   \n                                                            50000      0.180316   \n                                                            100000     0.175294   \n                                                            400000     0.170526   \n         tiny-high (8 files from 8 sessions for 5994 spe... 25000      0.119460   \n                                                            50000      0.098200   \n                                                            100000     0.092418   \n                                                            400000     0.094475   \n         tiny-low (8 files from 1 session for 5994 speak... 25000      0.229007   \n                                                            50000      0.216042   \n                                                            100000     0.208227   \n                                                            400000     0.196524   \n         voxceleb2 (1M files shared between 5994 speakers)  25000      0.068700   \n                                                            50000      0.055318   \n                                                            100000     0.047272   \n                                                            400000     0.039763   \nwav2vec2 tiny-few (50k files shared between 100 speakers)   25000      0.226609   \n                                                            50000      0.154584   \n                                                            100000     0.157520   \n                                                            400000     0.187600   \n         tiny-high (8 files from 8 sessions for 5994 spe... 25000      0.109838   \n                                                            50000      0.067484   \n                                                            100000     0.086127   \n                                                            400000     0.082300   \n         tiny-low (8 files from 1 session for 5994 speak... 25000      0.238626   \n                                                            50000      0.220311   \n                                                            100000     0.223673   \n                                                            400000     0.234300   \n         voxceleb2 (1M files shared between 5994 speakers)  25000      0.078361   \n                                                            50000      0.048009   \n                                                            100000     0.043280   \n                                                            400000     0.067900   \nxvector  tiny-few (50k files shared between 100 speakers)   25000      0.190991   \n                                                            50000      0.181082   \n                                                            100000     0.181630   \n                                                            400000     0.182770   \n         tiny-high (8 files from 8 sessions for 5994 spe... 25000      0.181177   \n                                                            50000      0.164094   \n                                                            100000     0.142253   \n                                                            400000     0.108592   \n         tiny-low (8 files from 1 session for 5994 speak... 25000      0.285896   \n                                                            50000      0.273705   \n                                                            100000     0.266305   \n                                                            400000     0.241335   \n         voxceleb2 (1M files shared between 5994 speakers)  25000      0.167215   \n                                                            50000      0.114863   \n                                                            100000     0.073078   \n                                                            400000     0.050431   \n\n                                                                       eer_mean  \\\nnetwork  data                                               num_steps             \necapa    tiny-few (50k files shared between 100 speakers)   25000      0.182727   \n                                                            50000      0.175923   \n                                                            100000     0.174806   \n                                                            400000     0.169471   \n         tiny-high (8 files from 8 sessions for 5994 spe... 25000      0.115067   \n                                                            50000      0.097801   \n                                                            100000     0.091222   \n                                                            400000     0.093552   \n         tiny-low (8 files from 1 session for 5994 speak... 25000      0.226721   \n                                                            50000      0.212518   \n                                                            100000     0.205821   \n                                                            400000     0.195213   \n         voxceleb2 (1M files shared between 5994 speakers)  25000      0.068040   \n                                                            50000      0.054620   \n                                                            100000     0.046065   \n                                                            400000     0.039276   \nwav2vec2 tiny-few (50k files shared between 100 speakers)   25000      0.224849   \n                                                            50000      0.151904   \n                                                            100000     0.155986   \n                                                            400000     0.184987   \n         tiny-high (8 files from 8 sessions for 5994 spe... 25000      0.104092   \n                                                            50000      0.067190   \n                                                            100000     0.076630   \n                                                            400000     0.079257   \n         tiny-low (8 files from 1 session for 5994 speak... 25000      0.237778   \n                                                            50000      0.218815   \n                                                            100000     0.220758   \n                                                            400000     0.233100   \n         voxceleb2 (1M files shared between 5994 speakers)  25000      0.077590   \n                                                            50000      0.046608   \n                                                            100000     0.042015   \n                                                            400000     0.059040   \nxvector  tiny-few (50k files shared between 100 speakers)   25000      0.189279   \n                                                            50000      0.180212   \n                                                            100000     0.180044   \n                                                            400000     0.180427   \n         tiny-high (8 files from 8 sessions for 5994 spe... 25000      0.179961   \n                                                            50000      0.160497   \n                                                            100000     0.135308   \n                                                            400000     0.105756   \n         tiny-low (8 files from 1 session for 5994 speak... 25000      0.284586   \n                                                            50000      0.272321   \n                                                            100000     0.262881   \n                                                            400000     0.239955   \n         voxceleb2 (1M files shared between 5994 speakers)  25000      0.163007   \n                                                            50000      0.112062   \n                                                            100000     0.072097   \n                                                            400000     0.050121   \n\n                                                                        eer_std  \\\nnetwork  data                                               num_steps             \necapa    tiny-few (50k files shared between 100 speakers)   25000      0.000344   \n                                                            50000      0.004017   \n                                                            100000     0.000691   \n                                                            400000     0.001493   \n         tiny-high (8 files from 8 sessions for 5994 spe... 25000      0.003895   \n                                                            50000      0.000636   \n                                                            100000     0.001130   \n                                                            400000     0.000804   \n         tiny-low (8 files from 1 session for 5994 speak... 25000      0.002321   \n                                                            50000      0.004378   \n                                                            100000     0.002495   \n                                                            400000     0.001210   \n         voxceleb2 (1M files shared between 5994 speakers)  25000      0.000582   \n                                                            50000      0.000738   \n                                                            100000     0.001341   \n                                                            400000     0.000694   \nwav2vec2 tiny-few (50k files shared between 100 speakers)   25000      0.001591   \n                                                            50000      0.002370   \n                                                            100000     0.002017   \n                                                            400000     0.004321   \n         tiny-high (8 files from 8 sessions for 5994 spe... 25000      0.005170   \n                                                            50000      0.000370   \n                                                            100000     0.008309   \n                                                            400000     0.003678   \n         tiny-low (8 files from 1 session for 5994 speak... 25000      0.001041   \n                                                            50000      0.001605   \n                                                            100000     0.002887   \n                                                            400000     0.001044   \n         voxceleb2 (1M files shared between 5994 speakers)  25000      0.000672   \n                                                            50000      0.001469   \n                                                            100000     0.001612   \n                                                            400000     0.007723   \nxvector  tiny-few (50k files shared between 100 speakers)   25000      0.001523   \n                                                            50000      0.000798   \n                                                            100000     0.002175   \n                                                            400000     0.003121   \n         tiny-high (8 files from 8 sessions for 5994 spe... 25000      0.001086   \n                                                            50000      0.003116   \n                                                            100000     0.007342   \n                                                            400000     0.002461   \n         tiny-low (8 files from 1 session for 5994 speak... 25000      0.001221   \n                                                            50000      0.001367   \n                                                            100000     0.002982   \n                                                            400000     0.001862   \n         voxceleb2 (1M files shared between 5994 speakers)  25000      0.006435   \n                                                            50000      0.003257   \n                                                            100000     0.000984   \n                                                            400000     0.000437   \n\n                                                                       count  \nnetwork  data                                               num_steps         \necapa    tiny-few (50k files shared between 100 speakers)   25000          2  \n                                                            50000          3  \n                                                            100000         2  \n                                                            400000         2  \n         tiny-high (8 files from 8 sessions for 5994 spe... 25000          3  \n                                                            50000          3  \n                                                            100000         3  \n                                                            400000         3  \n         tiny-low (8 files from 1 session for 5994 speak... 25000          3  \n                                                            50000          3  \n                                                            100000         3  \n                                                            400000         3  \n         voxceleb2 (1M files shared between 5994 speakers)  25000          3  \n                                                            50000          3  \n                                                            100000         3  \n                                                            400000         3  \nwav2vec2 tiny-few (50k files shared between 100 speakers)   25000          3  \n                                                            50000          3  \n                                                            100000         3  \n                                                            400000         3  \n         tiny-high (8 files from 8 sessions for 5994 spe... 25000          3  \n                                                            50000          3  \n                                                            100000         3  \n                                                            400000         3  \n         tiny-low (8 files from 1 session for 5994 speak... 25000          3  \n                                                            50000          3  \n                                                            100000         3  \n                                                            400000         3  \n         voxceleb2 (1M files shared between 5994 speakers)  25000          3  \n                                                            50000          3  \n                                                            100000         3  \n                                                            400000         3  \nxvector  tiny-few (50k files shared between 100 speakers)   25000          3  \n                                                            50000          3  \n                                                            100000         3  \n                                                            400000         3  \n         tiny-high (8 files from 8 sessions for 5994 spe... 25000          3  \n                                                            50000          3  \n                                                            100000         3  \n                                                            400000         3  \n         tiny-low (8 files from 1 session for 5994 speak... 25000          3  \n                                                            50000          3  \n                                                            100000         3  \n                                                            400000         3  \n         voxceleb2 (1M files shared between 5994 speakers)  25000          3  \n                                                            50000          3  \n                                                            100000         3  \n                                                            400000         3  ",
      "text/html": "<div>\n<style scoped>\n    .dataframe tbody tr th:only-of-type {\n        vertical-align: middle;\n    }\n\n    .dataframe tbody tr th {\n        vertical-align: top;\n    }\n\n    .dataframe thead th {\n        text-align: right;\n    }\n</style>\n<table border=\"1\" class=\"dataframe\">\n  <thead>\n    <tr style=\"text-align: right;\">\n      <th></th>\n      <th></th>\n      <th></th>\n      <th>num_steps</th>\n      <th>eer_min</th>\n      <th>eer_max</th>\n      <th>eer_mean</th>\n      <th>eer_std</th>\n      <th>count</th>\n    </tr>\n    <tr>\n      <th>network</th>\n      <th>data</th>\n      <th>num_steps</th>\n      <th></th>\n      <th></th>\n      <th></th>\n      <th></th>\n      <th></th>\n      <th></th>\n    </tr>\n  </thead>\n  <tbody>\n    <tr>\n      <th rowspan=\"16\" valign=\"top\">ecapa</th>\n      <th rowspan=\"4\" valign=\"top\">tiny-few (50k files shared between 100 speakers)</th>\n      <th>25000</th>\n      <td>25000</td>\n      <td>0.182483</td>\n      <td>0.182970</td>\n      <td>0.182727</td>\n      <td>0.000344</td>\n      <td>2</td>\n    </tr>\n    <tr>\n      <th>50000</th>\n      <td>50000</td>\n      <td>0.172436</td>\n      <td>0.180316</td>\n      <td>0.175923</td>\n      <td>0.004017</td>\n      <td>3</td>\n    </tr>\n    <tr>\n      <th>100000</th>\n      <td>100000</td>\n      <td>0.174317</td>\n      <td>0.175294</td>\n      <td>0.174806</td>\n      <td>0.000691</td>\n      <td>2</td>\n    </tr>\n    <tr>\n      <th>400000</th>\n      <td>400000</td>\n      <td>0.168415</td>\n      <td>0.170526</td>\n      <td>0.169471</td>\n      <td>0.001493</td>\n      <td>2</td>\n    </tr>\n    <tr>\n      <th rowspan=\"4\" valign=\"top\">tiny-high (8 files from 8 sessions for 5994 speakers)</th>\n      <th>25000</th>\n      <td>25000</td>\n      <td>0.112034</td>\n      <td>0.119460</td>\n      <td>0.115067</td>\n      <td>0.003895</td>\n      <td>3</td>\n    </tr>\n    <tr>\n      <th>50000</th>\n      <td>50000</td>\n      <td>0.097068</td>\n      <td>0.098200</td>\n      <td>0.097801</td>\n      <td>0.000636</td>\n      <td>3</td>\n    </tr>\n    <tr>\n      <th>100000</th>\n      <td>100000</td>\n      <td>0.090172</td>\n      <td>0.092418</td>\n      <td>0.091222</td>\n      <td>0.001130</td>\n      <td>3</td>\n    </tr>\n    <tr>\n      <th>400000</th>\n      <td>400000</td>\n      <td>0.093005</td>\n      <td>0.094475</td>\n      <td>0.093552</td>\n      <td>0.000804</td>\n      <td>3</td>\n    </tr>\n    <tr>\n      <th rowspan=\"4\" valign=\"top\">tiny-low (8 files from 1 session for 5994 speakers)</th>\n      <th>25000</th>\n      <td>25000</td>\n      <td>0.224367</td>\n      <td>0.229007</td>\n      <td>0.226721</td>\n      <td>0.002321</td>\n      <td>3</td>\n    </tr>\n    <tr>\n      <th>50000</th>\n      <td>50000</td>\n      <td>0.207617</td>\n      <td>0.216042</td>\n      <td>0.212518</td>\n      <td>0.004378</td>\n      <td>3</td>\n    </tr>\n    <tr>\n      <th>100000</th>\n      <td>100000</td>\n      <td>0.203245</td>\n      <td>0.208227</td>\n      <td>0.205821</td>\n      <td>0.002495</td>\n      <td>3</td>\n    </tr>\n    <tr>\n      <th>400000</th>\n      <td>400000</td>\n      <td>0.194139</td>\n      <td>0.196524</td>\n      <td>0.195213</td>\n      <td>0.001210</td>\n      <td>3</td>\n    </tr>\n    <tr>\n      <th rowspan=\"4\" valign=\"top\">voxceleb2 (1M files shared between 5994 speakers)</th>\n      <th>25000</th>\n      <td>25000</td>\n      <td>0.067600</td>\n      <td>0.068700</td>\n      <td>0.068040</td>\n      <td>0.000582</td>\n      <td>3</td>\n    </tr>\n    <tr>\n      <th>50000</th>\n      <td>50000</td>\n      <td>0.053848</td>\n      <td>0.055318</td>\n      <td>0.054620</td>\n      <td>0.000738</td>\n      <td>3</td>\n    </tr>\n    <tr>\n      <th>100000</th>\n      <td>100000</td>\n      <td>0.044621</td>\n      <td>0.047272</td>\n      <td>0.046065</td>\n      <td>0.001341</td>\n      <td>3</td>\n    </tr>\n    <tr>\n      <th>400000</th>\n      <td>400000</td>\n      <td>0.038481</td>\n      <td>0.039763</td>\n      <td>0.039276</td>\n      <td>0.000694</td>\n      <td>3</td>\n    </tr>\n    <tr>\n      <th rowspan=\"16\" valign=\"top\">wav2vec2</th>\n      <th rowspan=\"4\" valign=\"top\">tiny-few (50k files shared between 100 speakers)</th>\n      <th>25000</th>\n      <td>25000</td>\n      <td>0.223514</td>\n      <td>0.226609</td>\n      <td>0.224849</td>\n      <td>0.001591</td>\n      <td>3</td>\n    </tr>\n    <tr>\n      <th>50000</th>\n      <td>50000</td>\n      <td>0.150083</td>\n      <td>0.154584</td>\n      <td>0.151904</td>\n      <td>0.002370</td>\n      <td>3</td>\n    </tr>\n    <tr>\n      <th>100000</th>\n      <td>100000</td>\n      <td>0.153702</td>\n      <td>0.157520</td>\n      <td>0.155986</td>\n      <td>0.002017</td>\n      <td>3</td>\n    </tr>\n    <tr>\n      <th>400000</th>\n      <td>400000</td>\n      <td>0.180000</td>\n      <td>0.187600</td>\n      <td>0.184987</td>\n      <td>0.004321</td>\n      <td>3</td>\n    </tr>\n    <tr>\n      <th rowspan=\"4\" valign=\"top\">tiny-high (8 files from 8 sessions for 5994 speakers)</th>\n      <th>25000</th>\n      <td>25000</td>\n      <td>0.099816</td>\n      <td>0.109838</td>\n      <td>0.104092</td>\n      <td>0.005170</td>\n      <td>3</td>\n    </tr>\n    <tr>\n      <th>50000</th>\n      <td>50000</td>\n      <td>0.066774</td>\n      <td>0.067484</td>\n      <td>0.067190</td>\n      <td>0.000370</td>\n      <td>3</td>\n    </tr>\n    <tr>\n      <th>100000</th>\n      <td>100000</td>\n      <td>0.070703</td>\n      <td>0.086127</td>\n      <td>0.076630</td>\n      <td>0.008309</td>\n      <td>3</td>\n    </tr>\n    <tr>\n      <th>400000</th>\n      <td>400000</td>\n      <td>0.075170</td>\n      <td>0.082300</td>\n      <td>0.079257</td>\n      <td>0.003678</td>\n      <td>3</td>\n    </tr>\n    <tr>\n      <th rowspan=\"4\" valign=\"top\">tiny-low (8 files from 1 session for 5994 speakers)</th>\n      <th>25000</th>\n      <td>25000</td>\n      <td>0.236616</td>\n      <td>0.238626</td>\n      <td>0.237778</td>\n      <td>0.001041</td>\n      <td>3</td>\n    </tr>\n    <tr>\n      <th>50000</th>\n      <td>50000</td>\n      <td>0.217120</td>\n      <td>0.220311</td>\n      <td>0.218815</td>\n      <td>0.001605</td>\n      <td>3</td>\n    </tr>\n    <tr>\n      <th>100000</th>\n      <td>100000</td>\n      <td>0.217900</td>\n      <td>0.223673</td>\n      <td>0.220758</td>\n      <td>0.002887</td>\n      <td>3</td>\n    </tr>\n    <tr>\n      <th>400000</th>\n      <td>400000</td>\n      <td>0.232400</td>\n      <td>0.234300</td>\n      <td>0.233100</td>\n      <td>0.001044</td>\n      <td>3</td>\n    </tr>\n    <tr>\n      <th rowspan=\"4\" valign=\"top\">voxceleb2 (1M files shared between 5994 speakers)</th>\n      <th>25000</th>\n      <td>25000</td>\n      <td>0.077125</td>\n      <td>0.078361</td>\n      <td>0.077590</td>\n      <td>0.000672</td>\n      <td>3</td>\n    </tr>\n    <tr>\n      <th>50000</th>\n      <td>50000</td>\n      <td>0.045080</td>\n      <td>0.048009</td>\n      <td>0.046608</td>\n      <td>0.001469</td>\n      <td>3</td>\n    </tr>\n    <tr>\n      <th>100000</th>\n      <td>100000</td>\n      <td>0.040200</td>\n      <td>0.043280</td>\n      <td>0.042015</td>\n      <td>0.001612</td>\n      <td>3</td>\n    </tr>\n    <tr>\n      <th>400000</th>\n      <td>400000</td>\n      <td>0.053730</td>\n      <td>0.067900</td>\n      <td>0.059040</td>\n      <td>0.007723</td>\n      <td>3</td>\n    </tr>\n    <tr>\n      <th rowspan=\"16\" valign=\"top\">xvector</th>\n      <th rowspan=\"4\" valign=\"top\">tiny-few (50k files shared between 100 speakers)</th>\n      <th>25000</th>\n      <td>25000</td>\n      <td>0.188074</td>\n      <td>0.190991</td>\n      <td>0.189279</td>\n      <td>0.001523</td>\n      <td>3</td>\n    </tr>\n    <tr>\n      <th>50000</th>\n      <td>50000</td>\n      <td>0.179514</td>\n      <td>0.181082</td>\n      <td>0.180212</td>\n      <td>0.000798</td>\n      <td>3</td>\n    </tr>\n    <tr>\n      <th>100000</th>\n      <td>100000</td>\n      <td>0.177565</td>\n      <td>0.181630</td>\n      <td>0.180044</td>\n      <td>0.002175</td>\n      <td>3</td>\n    </tr>\n    <tr>\n      <th>400000</th>\n      <td>400000</td>\n      <td>0.176884</td>\n      <td>0.182770</td>\n      <td>0.180427</td>\n      <td>0.003121</td>\n      <td>3</td>\n    </tr>\n    <tr>\n      <th rowspan=\"4\" valign=\"top\">tiny-high (8 files from 8 sessions for 5994 speakers)</th>\n      <th>25000</th>\n      <td>25000</td>\n      <td>0.179085</td>\n      <td>0.181177</td>\n      <td>0.179961</td>\n      <td>0.001086</td>\n      <td>3</td>\n    </tr>\n    <tr>\n      <th>50000</th>\n      <td>50000</td>\n      <td>0.158631</td>\n      <td>0.164094</td>\n      <td>0.160497</td>\n      <td>0.003116</td>\n      <td>3</td>\n    </tr>\n    <tr>\n      <th>100000</th>\n      <td>100000</td>\n      <td>0.127624</td>\n      <td>0.142253</td>\n      <td>0.135308</td>\n      <td>0.007342</td>\n      <td>3</td>\n    </tr>\n    <tr>\n      <th>400000</th>\n      <td>400000</td>\n      <td>0.104186</td>\n      <td>0.108592</td>\n      <td>0.105756</td>\n      <td>0.002461</td>\n      <td>3</td>\n    </tr>\n    <tr>\n      <th rowspan=\"4\" valign=\"top\">tiny-low (8 files from 1 session for 5994 speakers)</th>\n      <th>25000</th>\n      <td>25000</td>\n      <td>0.283479</td>\n      <td>0.285896</td>\n      <td>0.284586</td>\n      <td>0.001221</td>\n      <td>3</td>\n    </tr>\n    <tr>\n      <th>50000</th>\n      <td>50000</td>\n      <td>0.270971</td>\n      <td>0.273705</td>\n      <td>0.272321</td>\n      <td>0.001367</td>\n      <td>3</td>\n    </tr>\n    <tr>\n      <th>100000</th>\n      <td>100000</td>\n      <td>0.260857</td>\n      <td>0.266305</td>\n      <td>0.262881</td>\n      <td>0.002982</td>\n      <td>3</td>\n    </tr>\n    <tr>\n      <th>400000</th>\n      <td>400000</td>\n      <td>0.237838</td>\n      <td>0.241335</td>\n      <td>0.239955</td>\n      <td>0.001862</td>\n      <td>3</td>\n    </tr>\n    <tr>\n      <th rowspan=\"4\" valign=\"top\">voxceleb2 (1M files shared between 5994 speakers)</th>\n      <th>25000</th>\n      <td>25000</td>\n      <td>0.155600</td>\n      <td>0.167215</td>\n      <td>0.163007</td>\n      <td>0.006435</td>\n      <td>3</td>\n    </tr>\n    <tr>\n      <th>50000</th>\n      <td>50000</td>\n      <td>0.108487</td>\n      <td>0.114863</td>\n      <td>0.112062</td>\n      <td>0.003257</td>\n      <td>3</td>\n    </tr>\n    <tr>\n      <th>100000</th>\n      <td>100000</td>\n      <td>0.071110</td>\n      <td>0.073078</td>\n      <td>0.072097</td>\n      <td>0.000984</td>\n      <td>3</td>\n    </tr>\n    <tr>\n      <th>400000</th>\n      <td>400000</td>\n      <td>0.049621</td>\n      <td>0.050431</td>\n      <td>0.050121</td>\n      <td>0.000437</td>\n      <td>3</td>\n    </tr>\n  </tbody>\n</table>\n</div>"
     },
     "execution_count": 8,
     "metadata": {},
     "output_type": "execute_result"
    }
   ],
   "source": [
    "df_agg"
   ],
   "metadata": {
    "collapsed": false,
    "pycharm": {
     "name": "#%%\n"
    }
   }
  },
  {
   "cell_type": "code",
   "execution_count": 9,
   "outputs": [
    {
     "data": {
      "text/plain": "141"
     },
     "execution_count": 9,
     "metadata": {},
     "output_type": "execute_result"
    }
   ],
   "source": [
    "df_agg['count'].sum()"
   ],
   "metadata": {
    "collapsed": false,
    "pycharm": {
     "name": "#%%\n"
    }
   }
  },
  {
   "cell_type": "code",
   "execution_count": 5,
   "outputs": [],
   "source": [],
   "metadata": {
    "collapsed": false,
    "pycharm": {
     "name": "#%%\n"
    }
   }
  }
 ],
 "metadata": {
  "kernelspec": {
   "display_name": "Python 3",
   "language": "python",
   "name": "python3"
  },
  "language_info": {
   "codemirror_mode": {
    "name": "ipython",
    "version": 2
   },
   "file_extension": ".py",
   "mimetype": "text/x-python",
   "name": "python",
   "nbconvert_exporter": "python",
   "pygments_lexer": "ipython2",
   "version": "2.7.6"
  }
 },
 "nbformat": 4,
 "nbformat_minor": 0
}