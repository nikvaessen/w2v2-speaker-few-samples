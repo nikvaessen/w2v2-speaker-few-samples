{
 "cells": [
  {
   "cell_type": "code",
   "execution_count": 2,
   "metadata": {
    "collapsed": true
   },
   "outputs": [],
   "source": [
    "import pathlib\n",
    "\n",
    "from typing import List\n",
    "\n",
    "import pandas as pd\n",
    "import seaborn as sns\n",
    "import webdataset as wds"
   ]
  },
  {
   "cell_type": "code",
   "execution_count": 3,
   "outputs": [],
   "source": [
    "root_path = pathlib.Path(\"../data/shards_vox2_full\")\n",
    "train_path = root_path / \"train\"\n",
    "val_path = root_path / \"val\""
   ],
   "metadata": {
    "collapsed": false,
    "pycharm": {
     "name": "#%%\n"
    }
   }
  },
  {
   "cell_type": "code",
   "execution_count": 4,
   "outputs": [],
   "source": [
    "def find_tar_files(path: pathlib.Path):\n",
    "    return [f for f in path.glob('*.tar*') if f.is_file()]\n"
   ],
   "metadata": {
    "collapsed": false,
    "pycharm": {
     "name": "#%%\n"
    }
   }
  },
  {
   "cell_type": "code",
   "execution_count": 5,
   "outputs": [],
   "source": [
    "def retrieve_meta_json_files(shard_list: List[pathlib.Path]):\n",
    "    ds = wds.WebDataset(urls=[shard_list])\n",
    "\n",
    "    pass"
   ],
   "metadata": {
    "collapsed": false,
    "pycharm": {
     "name": "#%%\n"
    }
   }
  },
  {
   "cell_type": "code",
   "execution_count": 6,
   "outputs": [
    {
     "name": "stdout",
     "output_type": "stream",
     "text": [
      "[PosixPath('../data/shards_vox2_full/train/train_shard_000000.tar'), PosixPath('../data/shards_vox2_full/train/train_shard_000001.tar'), PosixPath('../data/shards_vox2_full/train/train_shard_000002.tar'), PosixPath('../data/shards_vox2_full/train/train_shard_000003.tar'), PosixPath('../data/shards_vox2_full/train/train_shard_000004.tar'), PosixPath('../data/shards_vox2_full/train/train_shard_000005.tar'), PosixPath('../data/shards_vox2_full/train/train_shard_000006.tar'), PosixPath('../data/shards_vox2_full/train/train_shard_000007.tar'), PosixPath('../data/shards_vox2_full/train/train_shard_000008.tar'), PosixPath('../data/shards_vox2_full/train/train_shard_000009.tar')]\n"
     ]
    },
    {
     "ename": "AssertionError",
     "evalue": "",
     "output_type": "error",
     "traceback": [
      "\u001B[0;31m---------------------------------------------------------------------------\u001B[0m",
      "\u001B[0;31mAssertionError\u001B[0m                            Traceback (most recent call last)",
      "Input \u001B[0;32mIn [6]\u001B[0m, in \u001B[0;36m<module>\u001B[0;34m\u001B[0m\n\u001B[1;32m      1\u001B[0m tar_files \u001B[38;5;241m=\u001B[39m find_tar_files(train_path)\n\u001B[1;32m      2\u001B[0m \u001B[38;5;28mprint\u001B[39m(tar_files[\u001B[38;5;241m0\u001B[39m:\u001B[38;5;241m10\u001B[39m])\n\u001B[0;32m----> 3\u001B[0m \u001B[43mretrieve_meta_json_files\u001B[49m\u001B[43m(\u001B[49m\u001B[43mtar_files\u001B[49m\u001B[43m)\u001B[49m\n",
      "Input \u001B[0;32mIn [5]\u001B[0m, in \u001B[0;36mretrieve_meta_json_files\u001B[0;34m(shard_list)\u001B[0m\n\u001B[1;32m      1\u001B[0m \u001B[38;5;28;01mdef\u001B[39;00m \u001B[38;5;21mretrieve_meta_json_files\u001B[39m(shard_list: List[pathlib\u001B[38;5;241m.\u001B[39mPath]):\n\u001B[0;32m----> 2\u001B[0m     ds \u001B[38;5;241m=\u001B[39m \u001B[43mwds\u001B[49m\u001B[38;5;241;43m.\u001B[39;49m\u001B[43mWebDataset\u001B[49m\u001B[43m(\u001B[49m\u001B[43murls\u001B[49m\u001B[38;5;241;43m=\u001B[39;49m\u001B[43m[\u001B[49m\u001B[43mshard_list\u001B[49m\u001B[43m]\u001B[49m\u001B[43m)\u001B[49m\n\u001B[1;32m      4\u001B[0m     \u001B[38;5;28;01mpass\u001B[39;00m\n",
      "File \u001B[0;32m~/workspace/phd/repo/w2v2-speaker-few-samples/.venv/lib/python3.8/site-packages/webdataset/dataset.py:80\u001B[0m, in \u001B[0;36mWebDataset\u001B[0;34m(urls, cache_dir, cache_size, cache_name, cache_verbose, handler, resampled, repeat, shardshuffle)\u001B[0m\n\u001B[1;32m     78\u001B[0m     result \u001B[38;5;241m=\u001B[39m PytorchShardList(urls, shuffle\u001B[38;5;241m=\u001B[39mshardshuffle)\n\u001B[1;32m     79\u001B[0m \u001B[38;5;28;01melif\u001B[39;00m \u001B[38;5;28misinstance\u001B[39m(urls, \u001B[38;5;28mlist\u001B[39m):\n\u001B[0;32m---> 80\u001B[0m     result \u001B[38;5;241m=\u001B[39m \u001B[43mPytorchShardList\u001B[49m\u001B[43m(\u001B[49m\u001B[43murls\u001B[49m\u001B[43m,\u001B[49m\u001B[43m \u001B[49m\u001B[43mshuffle\u001B[49m\u001B[38;5;241;43m=\u001B[39;49m\u001B[43mshardshuffle\u001B[49m\u001B[43m)\u001B[49m\n\u001B[1;32m     81\u001B[0m \u001B[38;5;28;01melif\u001B[39;00m \u001B[38;5;28misinstance\u001B[39m(urls, \u001B[38;5;28mstr\u001B[39m) \u001B[38;5;129;01mand\u001B[39;00m os\u001B[38;5;241m.\u001B[39mpath\u001B[38;5;241m.\u001B[39msplitext(urls)[\u001B[38;5;241m1\u001B[39m] \u001B[38;5;129;01min\u001B[39;00m [\u001B[38;5;124m\"\u001B[39m\u001B[38;5;124myml\u001B[39m\u001B[38;5;124m\"\u001B[39m, \u001B[38;5;124m\"\u001B[39m\u001B[38;5;124myaml\u001B[39m\u001B[38;5;124m\"\u001B[39m, \u001B[38;5;124m\"\u001B[39m\u001B[38;5;124mjson\u001B[39m\u001B[38;5;124m\"\u001B[39m]:\n\u001B[1;32m     82\u001B[0m     \u001B[38;5;28;01mraise\u001B[39;00m \u001B[38;5;167;01mValueError\u001B[39;00m(\u001B[38;5;124m\"\u001B[39m\u001B[38;5;124mbad shard spec (only \u001B[39m\u001B[38;5;124m'\u001B[39m\u001B[38;5;124m.shards.yml\u001B[39m\u001B[38;5;124m'\u001B[39m\u001B[38;5;124m supported right now)\u001B[39m\u001B[38;5;124m\"\u001B[39m)\n",
      "File \u001B[0;32m~/workspace/phd/repo/w2v2-speaker-few-samples/.venv/lib/python3.8/site-packages/webdataset/shardlists.py:284\u001B[0m, in \u001B[0;36mPytorchShardList.__init__\u001B[0;34m(self, urls, epoch_shuffle, shuffle, split_by_worker, split_by_node, verbose)\u001B[0m\n\u001B[1;32m    282\u001B[0m \u001B[38;5;28mself\u001B[39m\u001B[38;5;241m.\u001B[39msplit_by_node \u001B[38;5;241m=\u001B[39m split_by_node\n\u001B[1;32m    283\u001B[0m \u001B[38;5;28;01mif\u001B[39;00m \u001B[38;5;129;01mnot\u001B[39;00m \u001B[38;5;28misinstance\u001B[39m(urls, ShardSample):\n\u001B[0;32m--> 284\u001B[0m     urls \u001B[38;5;241m=\u001B[39m \u001B[43mSimpleShardSample\u001B[49m\u001B[43m(\u001B[49m\u001B[43murls\u001B[49m\u001B[43m)\u001B[49m\n\u001B[1;32m    285\u001B[0m \u001B[38;5;28mself\u001B[39m\u001B[38;5;241m.\u001B[39mshardsample \u001B[38;5;241m=\u001B[39m urls\n",
      "File \u001B[0;32m~/workspace/phd/repo/w2v2-speaker-few-samples/.venv/lib/python3.8/site-packages/webdataset/shardlists.py:173\u001B[0m, in \u001B[0;36mSimpleShardSample.__init__\u001B[0;34m(self, urls)\u001B[0m\n\u001B[1;32m    171\u001B[0m     urls \u001B[38;5;241m=\u001B[39m \u001B[38;5;28mlist\u001B[39m(urls)\n\u001B[1;32m    172\u001B[0m \u001B[38;5;28mself\u001B[39m\u001B[38;5;241m.\u001B[39murls \u001B[38;5;241m=\u001B[39m \u001B[38;5;28mlist\u001B[39m(urls)\n\u001B[0;32m--> 173\u001B[0m \u001B[38;5;28;01massert\u001B[39;00m \u001B[38;5;28misinstance\u001B[39m(\u001B[38;5;28mself\u001B[39m\u001B[38;5;241m.\u001B[39murls[\u001B[38;5;241m0\u001B[39m], \u001B[38;5;28mstr\u001B[39m)\n",
      "\u001B[0;31mAssertionError\u001B[0m: "
     ]
    }
   ],
   "source": [
    "tar_files = find_tar_files(train_path)\n",
    "print(tar_files[0:10])\n",
    "retrieve_meta_json_files(tar_files)"
   ],
   "metadata": {
    "collapsed": false,
    "pycharm": {
     "name": "#%%\n"
    }
   }
  },
  {
   "cell_type": "code",
   "execution_count": 27,
   "outputs": [],
   "source": [
    "# plot different distribution"
   ],
   "metadata": {
    "collapsed": false,
    "pycharm": {
     "name": "#%%\n"
    }
   }
  },
  {
   "cell_type": "code",
   "execution_count": 28,
   "outputs": [],
   "source": [
    "def num_speakers(folder: pathlib.Path):\n",
    "    speaker_dirs = [f for f in folder.iterdir() if f.name[0:2] == \"id\"]\n",
    "\n",
    "    return len(speaker_dirs)"
   ],
   "metadata": {
    "collapsed": false,
    "pycharm": {
     "name": "#%%\n"
    }
   }
  },
  {
   "cell_type": "code",
   "execution_count": 29,
   "outputs": [],
   "source": [
    "def num_recordings(folder: pathlib.Path):\n",
    "    speaker_dirs = [f for f in folder.iterdir() if f.name[0:2] == \"id\"]\n",
    "    sum_recordings = sum([len(list(f.iterdir())) for f in speaker_dirs if f.is_dir()])\n",
    "\n",
    "    return sum_recordings"
   ],
   "metadata": {
    "collapsed": false,
    "pycharm": {
     "name": "#%%\n"
    }
   }
  },
  {
   "cell_type": "code",
   "execution_count": 38,
   "outputs": [],
   "source": [
    "def num_audio_files(folder: pathlib.Path):\n",
    "     audio_files = [f for f in folder.rglob(\"*/*/*.wav\")]\n",
    "\n",
    "     return len(audio_files)"
   ],
   "metadata": {
    "collapsed": false,
    "pycharm": {
     "name": "#%%\n"
    }
   }
  },
  {
   "cell_type": "code",
   "execution_count": null,
   "outputs": [],
   "source": [
    "def duration_audio(folder: pathlib.Path):\n",
    "    pass"
   ],
   "metadata": {
    "collapsed": false,
    "pycharm": {
     "name": "#%%\n"
    }
   }
  },
  {
   "cell_type": "code",
   "execution_count": 31,
   "outputs": [],
   "source": [
    "def num_recordings_per_speaker(folder: pathlib.Path):\n",
    "    speaker_dirs = [f for f in folder.iterdir() if f.name[0:2] == \"id\"]\n",
    "    recording_count = [len(list(f.iterdir())) for f in speaker_dirs if f.is_dir()]\n",
    "\n",
    "    return recording_count"
   ],
   "metadata": {
    "collapsed": false,
    "pycharm": {
     "name": "#%%\n"
    }
   }
  },
  {
   "cell_type": "code",
   "execution_count": 32,
   "outputs": [],
   "source": [
    "def num_files_per_recording(folder: pathlib.Path):\n",
    "    speaker_dirs = [f for f in folder.iterdir() if f.name[0:2] == \"id\"]\n",
    "    recording_dirs = []\n",
    "\n",
    "    for f in speaker_dirs:\n",
    "        for r in f.iterdir():\n",
    "            if r.is_dir():\n",
    "                recording_dirs.append(r)\n",
    "\n",
    "    num_files = []\n",
    "    for f in recording_dirs:\n",
    "        files = [g for g in f.iterdir() if g.is_file() and \".wav\" in g.name]\n",
    "        num_files.append(len(files))\n",
    "\n",
    "    return num_files"
   ],
   "metadata": {
    "collapsed": false,
    "pycharm": {
     "name": "#%%\n"
    }
   }
  },
  {
   "cell_type": "code",
   "execution_count": 33,
   "outputs": [],
   "source": [
    "def total_audio_length_per_speaker():\n",
    "\n",
    "    pass"
   ],
   "metadata": {
    "collapsed": false,
    "pycharm": {
     "name": "#%%\n"
    }
   }
  },
  {
   "cell_type": "code",
   "execution_count": 34,
   "outputs": [],
   "source": [
    "def audio_length_per_file():\n",
    "    pass"
   ],
   "metadata": {
    "collapsed": false,
    "pycharm": {
     "name": "#%%\n"
    }
   }
  },
  {
   "cell_type": "code",
   "execution_count": 11,
   "outputs": [],
   "source": [
    "def gender_balance():\n",
    "    pass"
   ],
   "metadata": {
    "collapsed": false,
    "pycharm": {
     "name": "#%%\n"
    }
   }
  },
  {
   "cell_type": "code",
   "execution_count": 12,
   "outputs": [],
   "source": [
    "# plot for train"
   ],
   "metadata": {
    "collapsed": false,
    "pycharm": {
     "name": "#%%\n"
    }
   }
  },
  {
   "cell_type": "code",
   "execution_count": 35,
   "outputs": [
    {
     "data": {
      "text/plain": "5994"
     },
     "execution_count": 35,
     "metadata": {},
     "output_type": "execute_result"
    }
   ],
   "source": [
    "num_speakers(train_path)"
   ],
   "metadata": {
    "collapsed": false,
    "pycharm": {
     "name": "#%%\n"
    }
   }
  },
  {
   "cell_type": "code",
   "execution_count": 36,
   "outputs": [
    {
     "data": {
      "text/plain": "136512"
     },
     "execution_count": 36,
     "metadata": {},
     "output_type": "execute_result"
    }
   ],
   "source": [
    "num_recordings(train_path)"
   ],
   "metadata": {
    "collapsed": false,
    "pycharm": {
     "name": "#%%\n"
    }
   }
  },
  {
   "cell_type": "code",
   "execution_count": 39,
   "outputs": [
    {
     "data": {
      "text/plain": "1069292"
     },
     "execution_count": 39,
     "metadata": {},
     "output_type": "execute_result"
    }
   ],
   "source": [
    "num_audio_files(train_path)"
   ],
   "metadata": {
    "collapsed": false,
    "pycharm": {
     "name": "#%%\n"
    }
   }
  },
  {
   "cell_type": "code",
   "execution_count": 22,
   "outputs": [
    {
     "name": "stdout",
     "output_type": "stream",
     "text": [
      "count    5994.000000\n",
      "mean       22.774775\n",
      "std        14.333993\n",
      "min         4.000000\n",
      "25%        11.000000\n",
      "50%        19.000000\n",
      "75%        31.000000\n",
      "max        89.000000\n",
      "dtype: float64\n"
     ]
    },
    {
     "data": {
      "text/plain": "<AxesSubplot:ylabel='Count'>"
     },
     "execution_count": 22,
     "metadata": {},
     "output_type": "execute_result"
    },
    {
     "data": {
      "text/plain": "<Figure size 432x288 with 1 Axes>",
      "image/png": "[encoded data removed]"
     },
     "metadata": {
      "needs_background": "light"
     },
     "output_type": "display_data"
    }
   ],
   "source": [
    "num_rec_per_speaker = pd.Series(num_recordings_per_speaker(train_path))\n",
    "print(num_rec_per_speaker.describe())\n",
    "sns.histplot(x=num_rec_per_speaker, binwidth=1)"
   ],
   "metadata": {
    "collapsed": false,
    "pycharm": {
     "name": "#%%\n"
    }
   }
  },
  {
   "cell_type": "code",
   "execution_count": 41,
   "outputs": [
    {
     "name": "stdout",
     "output_type": "stream",
     "text": [
      "count    136512.000000\n",
      "mean          7.832952\n",
      "std          10.727379\n",
      "min           1.000000\n",
      "25%           2.000000\n",
      "50%           5.000000\n",
      "75%          10.000000\n",
      "max         264.000000\n",
      "dtype: float64\n"
     ]
    },
    {
     "data": {
      "text/plain": "<AxesSubplot:ylabel='Count'>"
     },
     "execution_count": 41,
     "metadata": {},
     "output_type": "execute_result"
    },
    {
     "data": {
      "text/plain": "<Figure size 432x288 with 1 Axes>",
      "image/png": "[encoded data removed]"
     },
     "metadata": {
      "needs_background": "light"
     },
     "output_type": "display_data"
    }
   ],
   "source": [
    "num_file_per_rec = pd.Series(num_files_per_recording(train_path))\n",
    "\n",
    "print(num_file_per_rec.describe())\n",
    "sns.histplot(x=num_file_per_rec, binwidth=1)"
   ],
   "metadata": {
    "collapsed": false,
    "pycharm": {
     "name": "#%%\n"
    }
   }
  },
  {
   "cell_type": "code",
   "execution_count": null,
   "outputs": [],
   "source": [],
   "metadata": {
    "collapsed": false,
    "pycharm": {
     "name": "#%%\n"
    }
   }
  },
  {
   "cell_type": "code",
   "execution_count": null,
   "outputs": [],
   "source": [],
   "metadata": {
    "collapsed": false,
    "pycharm": {
     "name": "#%%\n"
    }
   }
  },
  {
   "cell_type": "code",
   "execution_count": 21,
   "outputs": [],
   "source": [
    "# plot for val"
   ],
   "metadata": {
    "collapsed": false,
    "pycharm": {
     "name": "#%%\n"
    }
   }
  },
  {
   "cell_type": "code",
   "execution_count": null,
   "outputs": [],
   "source": [],
   "metadata": {
    "collapsed": false,
    "pycharm": {
     "name": "#%%\n"
    }
   }
  }
 ],
 "metadata": {
  "kernelspec": {
   "display_name": "Python 3",
   "language": "python",
   "name": "python3"
  },
  "language_info": {
   "codemirror_mode": {
    "name": "ipython",
    "version": 2
   },
   "file_extension": ".py",
   "mimetype": "text/x-python",
   "name": "python",
   "nbconvert_exporter": "python",
   "pygments_lexer": "ipython2",
   "version": "2.7.6"
  }
 },
 "nbformat": 4,
 "nbformat_minor": 0
}